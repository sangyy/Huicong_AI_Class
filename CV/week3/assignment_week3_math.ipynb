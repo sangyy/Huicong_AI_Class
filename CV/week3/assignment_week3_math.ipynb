{
 "cells": [
  {
   "cell_type": "markdown",
   "metadata": {},
   "source": [
    "$Q:$  A person is swimming across several rivers. Speeds of those rivers are different: v1, v2, …, vn. To simplify\n",
    "this problem, we only consider the speed in vertical direction. The person’s speed is v. It’s a constant, no way to\n",
    "change that. And the angle of the person’s velocity to horizontal line is a1, a2, …, an. The total time for\n",
    "swimming is T. And, the person must pass those rivers.\n",
    "Your task is: Find out an equation to determine by choosing what angles (a1, a2, …, an) the person can get\n",
    "maximum distance in vertical direction (That is to say, please maximize dh by determining a1, a2, …, an) under\n",
    "the total time T. 【You are not required to give out concrete angle numbers, a “cost function” that can be\n",
    "derived from is enough】\n",
    "Tips: For this question, a mathematical tool you may need is called “Lagrangian Multiplier”. Which means, when\n",
    "you provide a formula, say E, which still need to satisfy some more conditions, say a > 1, for the convenience of\n",
    "calculating, we can write those 2 parts (formula E and condition a > 1) together as one new formula. Here the\n",
    "new formula will be: E – λ(a - 1)."
   ]
  },
  {
   "cell_type": "markdown",
   "metadata": {},
   "source": [
    "#### 已知：\n",
    "每条河的宽度 $ S=(s_1,s_2,\\dots,s_n)$\n",
    "\n",
    "每条河水垂直方向的水流速度 $ V=(v_1,v_2,\\dots,v_n) $\n",
    "\n",
    "人游泳的速度: $ v_p $, 总的耗费时间：$T$\n",
    "\n",
    "#### 未知：人游泳时与水平方向的夹角为 $ \\alpha =(\\alpha_1,\\alpha_2,\\dots,\\alpha_n) $\n",
    "\n",
    "#### 求：人在垂直方向上的最大距离"
   ]
  },
  {
   "cell_type": "markdown",
   "metadata": {},
   "source": [
    "解：根据 距离 = 速度 × 时间\n",
    "- 垂直方向的总前进速度 = 水流速度 + 垂直方向的游泳速度\n",
    "- 游过每条河所需的时间 = 每条河的宽度 / 水平方向的游泳速度"
   ]
  },
  {
   "cell_type": "markdown",
   "metadata": {},
   "source": [
    "即：\n",
    "### $$ dH = \\sum_{i=1}^{n} [ v_p \\times \\sin(\\alpha_i) + v_i ]\\times [ \\frac{s_i}{v_p \\;\\times\\; \\cos(\\alpha_i)} ] $$"
   ]
  },
  {
   "cell_type": "markdown",
   "metadata": {},
   "source": [
    "已知时间的总和为T，即：\n",
    "### $$ \\sum_{i=1}^{n}\\frac{s_i}{v_p \\;\\times\\; \\cos(\\alpha_i)} = T $$"
   ]
  },
  {
   "cell_type": "markdown",
   "metadata": {},
   "source": [
    "所以：原问题即求$dH$的最大值，并且满足上式的条件"
   ]
  },
  {
   "cell_type": "markdown",
   "metadata": {},
   "source": [
    "该问题可以转为求 $-dH$ 的最小值，则满足拉格朗日乘子法求极值问题，求拉格朗日函数的最小值"
   ]
  },
  {
   "cell_type": "markdown",
   "metadata": {},
   "source": [
    "### $$ \\left\\{\\begin{matrix}\n",
    "dH = \\sum_{i=1}^{n} [ v_p \\times \\sin(\\alpha_i) + v_i ]\\times [ \\frac{s_i}{v_p \\;\\times\\; \\cos(\\alpha_i)} ]\\\\ \n",
    "s.b. \\;\\; \\sum_{i=1}^{n}\\frac{s_i}{v_p \\;\\times\\; \\cos(\\alpha_i)} = T \n",
    "\\end{matrix}\\right.$$"
   ]
  },
  {
   "cell_type": "markdown",
   "metadata": {},
   "source": [
    "构造拉格朗日函数 $ L(\\alpha, \\lambda) $ 如下："
   ]
  },
  {
   "cell_type": "markdown",
   "metadata": {},
   "source": [
    "#### $$ \\begin{align*}\n",
    "L(\\alpha, \\lambda) &= -\\sum_{i=1}^{n} [ v_p \\times \\sin(\\alpha_i) + v_i ]\\times [ \\frac{s_i}{v_p \\;\\times\\; \\cos(\\alpha_i)} ] + \\lambda \\times ( \\sum_{i=1}^{n}\\frac{s_i}{v_p \\;\\times\\; \\cos(\\alpha_i)} - T)\\\\ \n",
    " &= -\\sum_{i=1}^{n}[s_i \\times \\tan(\\alpha_i) + \\frac{v_i \\times s_i}{v_p \\times \\cos(\\alpha_i)}] + \\frac{\\lambda}{v_p} \\times \\sum_{i=1}^{n}\\frac{s_i}{\\cos(\\alpha_i)} - \\lambda \\times T\\\\ \n",
    " &= - tan(\\alpha) \\cdot S^T - \\sec(\\alpha) \\cdot (\\frac{V \\ast S}{v_p})^T + \\frac{\\lambda}{v_p} \\times [sec(\\alpha) \\cdot S^T] - \\lambda \\times T\n",
    "\\end{align*} $$\n",
    "\n",
    "$注：S^T 表示S的转置 $"
   ]
  },
  {
   "cell_type": "markdown",
   "metadata": {},
   "source": [
    "#### 对变量 $\\alpha, \\lambda $分别求导，令倒数为0，求出变量 $\\alpha, \\lambda $的值，带入上式即可求$L(\\alpha,\\lambda) $ 的最小值"
   ]
  },
  {
   "cell_type": "markdown",
   "metadata": {},
   "source": [
    "### $ \\left\\{\\begin{matrix}\n",
    "\\frac{\\partial L(\\alpha,\\lambda)}{\\partial \\alpha} = 0\\\\ \n",
    "\\frac{\\partial L(\\alpha,\\lambda)}{\\partial \\lambda} = 0\n",
    "\\end{matrix}\\right. $"
   ]
  }
 ],
 "metadata": {
  "kernelspec": {
   "display_name": "Python 3",
   "language": "python",
   "name": "python3"
  },
  "language_info": {
   "codemirror_mode": {
    "name": "ipython",
    "version": 3
   },
   "file_extension": ".py",
   "mimetype": "text/x-python",
   "name": "python",
   "nbconvert_exporter": "python",
   "pygments_lexer": "ipython3",
   "version": "3.6.3"
  }
 },
 "nbformat": 4,
 "nbformat_minor": 2
}
